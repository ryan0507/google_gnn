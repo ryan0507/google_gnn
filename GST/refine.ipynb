{
 "cells": [
  {
   "cell_type": "code",
   "execution_count": 6,
   "metadata": {},
   "outputs": [],
   "source": [
    "import pandas as pd"
   ]
  },
  {
   "cell_type": "code",
   "execution_count": 7,
   "metadata": {},
   "outputs": [],
   "source": [
    "b = pd.read_csv(\"tpugraphs_submission.csv\")"
   ]
  },
  {
   "cell_type": "code",
   "execution_count": 8,
   "metadata": {},
   "outputs": [],
   "source": [
    "filtered_b = b[b['ID'].str.contains('layout:xla:random')]"
   ]
  },
  {
   "cell_type": "code",
   "execution_count": 9,
   "metadata": {},
   "outputs": [
    {
     "name": "stdout",
     "output_type": "stream",
     "text": [
      "1000\n",
      "1000\n",
      "1000\n",
      "1001\n",
      "1000\n",
      "1000\n",
      "1000\n",
      "1000\n"
     ]
    }
   ],
   "source": [
    "for row in range(len(filtered_b)):\n",
    "    config = b['TopConfigs'][row+878].split(\";\")\n",
    "    print(len(config))"
   ]
  },
  {
   "cell_type": "code",
   "execution_count": 85,
   "metadata": {},
   "outputs": [],
   "source": [
    "b['TopConfigs'] = 0"
   ]
  },
  {
   "cell_type": "code",
   "execution_count": 12,
   "metadata": {},
   "outputs": [],
   "source": [
    "b.to_csv('./tmp_submission.csv', index = False)"
   ]
  },
  {
   "cell_type": "code",
   "execution_count": 3,
   "metadata": {},
   "outputs": [],
   "source": [
    "filtered_b = b[b['ID'].str.contains('layout:xla:random')]"
   ]
  },
  {
   "cell_type": "code",
   "execution_count": 4,
   "metadata": {},
   "outputs": [
    {
     "data": {
      "text/html": [
       "<div>\n",
       "<style scoped>\n",
       "    .dataframe tbody tr th:only-of-type {\n",
       "        vertical-align: middle;\n",
       "    }\n",
       "\n",
       "    .dataframe tbody tr th {\n",
       "        vertical-align: top;\n",
       "    }\n",
       "\n",
       "    .dataframe thead th {\n",
       "        text-align: right;\n",
       "    }\n",
       "</style>\n",
       "<table border=\"1\" class=\"dataframe\">\n",
       "  <thead>\n",
       "    <tr style=\"text-align: right;\">\n",
       "      <th></th>\n",
       "      <th>ID</th>\n",
       "      <th>TopConfigs</th>\n",
       "    </tr>\n",
       "  </thead>\n",
       "  <tbody>\n",
       "    <tr>\n",
       "      <th>878</th>\n",
       "      <td>layout:xla:random:05ae41e26dd3c4c06390371a0423...</td>\n",
       "      <td>70;97;143;232;244;259;267;274;323;341;345;358;...</td>\n",
       "    </tr>\n",
       "    <tr>\n",
       "      <th>879</th>\n",
       "      <td>layout:xla:random:3e7156ac468dfb75cf5c9615e1e5...</td>\n",
       "      <td>494;573;119;56;60;929;131;970;497;345;600;557;...</td>\n",
       "    </tr>\n",
       "    <tr>\n",
       "      <th>880</th>\n",
       "      <td>layout:xla:random:5335ed13823b0a518ee3c79ba442...</td>\n",
       "      <td>782;709;496;21;22;30;54;99;113;137;178;179;395...</td>\n",
       "    </tr>\n",
       "    <tr>\n",
       "      <th>881</th>\n",
       "      <td>layout:xla:random:937ee0eb0d5d6151b7b8252933b5...</td>\n",
       "      <td>977;475;9;592;47;70;187;695;143;169;587;930;80...</td>\n",
       "    </tr>\n",
       "    <tr>\n",
       "      <th>882</th>\n",
       "      <td>layout:xla:random:cd708819d3f5103afd6460b15e74...</td>\n",
       "      <td>157;222;692;552;940;39;958;874;905;147;764;904...</td>\n",
       "    </tr>\n",
       "    <tr>\n",
       "      <th>883</th>\n",
       "      <td>layout:xla:random:db59a991b7c607634f13570d52ce...</td>\n",
       "      <td>586;745;34;543;669;686;429;500;899;748;144;15;...</td>\n",
       "    </tr>\n",
       "    <tr>\n",
       "      <th>884</th>\n",
       "      <td>layout:xla:random:e8a3a1401b5e79f66d7037e424f3...</td>\n",
       "      <td>690;923;570;666;556;639;609;820;410;574;681;50...</td>\n",
       "    </tr>\n",
       "    <tr>\n",
       "      <th>885</th>\n",
       "      <td>layout:xla:random:fbaa8bb6a1aed9988281085c9106...</td>\n",
       "      <td>604;388;303;685;211;631;564;39;623;136;888;697...</td>\n",
       "    </tr>\n",
       "  </tbody>\n",
       "</table>\n",
       "</div>"
      ],
      "text/plain": [
       "                                                    ID  \\\n",
       "878  layout:xla:random:05ae41e26dd3c4c06390371a0423...   \n",
       "879  layout:xla:random:3e7156ac468dfb75cf5c9615e1e5...   \n",
       "880  layout:xla:random:5335ed13823b0a518ee3c79ba442...   \n",
       "881  layout:xla:random:937ee0eb0d5d6151b7b8252933b5...   \n",
       "882  layout:xla:random:cd708819d3f5103afd6460b15e74...   \n",
       "883  layout:xla:random:db59a991b7c607634f13570d52ce...   \n",
       "884  layout:xla:random:e8a3a1401b5e79f66d7037e424f3...   \n",
       "885  layout:xla:random:fbaa8bb6a1aed9988281085c9106...   \n",
       "\n",
       "                                            TopConfigs  \n",
       "878  70;97;143;232;244;259;267;274;323;341;345;358;...  \n",
       "879  494;573;119;56;60;929;131;970;497;345;600;557;...  \n",
       "880  782;709;496;21;22;30;54;99;113;137;178;179;395...  \n",
       "881  977;475;9;592;47;70;187;695;143;169;587;930;80...  \n",
       "882  157;222;692;552;940;39;958;874;905;147;764;904...  \n",
       "883  586;745;34;543;669;686;429;500;899;748;144;15;...  \n",
       "884  690;923;570;666;556;639;609;820;410;574;681;50...  \n",
       "885  604;388;303;685;211;631;564;39;623;136;888;697...  "
      ]
     },
     "execution_count": 4,
     "metadata": {},
     "output_type": "execute_result"
    }
   ],
   "source": [
    "filtered_b"
   ]
  },
  {
   "cell_type": "code",
   "execution_count": 88,
   "metadata": {},
   "outputs": [
    {
     "ename": "AttributeError",
     "evalue": "'numpy.int64' object has no attribute 'split'",
     "output_type": "error",
     "traceback": [
      "\u001b[0;31m---------------------------------------------------------------------------\u001b[0m",
      "\u001b[0;31mAttributeError\u001b[0m                            Traceback (most recent call last)",
      "\u001b[1;32m/nfs/home/ryan0507/google_gnn/GST/refine.ipynb 셀 7\u001b[0m line \u001b[0;36m1\n\u001b[0;32m----> <a href='vscode-notebook-cell://ssh-remote%2Baisys02/nfs/home/ryan0507/google_gnn/GST/refine.ipynb#X12sdnNjb2RlLXJlbW90ZQ%3D%3D?line=0'>1</a>\u001b[0m lst \u001b[39m=\u001b[39m filtered_b[\u001b[39m'\u001b[39;49m\u001b[39mTopConfigs\u001b[39;49m\u001b[39m'\u001b[39;49m][\u001b[39m878\u001b[39;49m]\u001b[39m.\u001b[39;49msplit(\u001b[39m'\u001b[39m\u001b[39m;\u001b[39m\u001b[39m'\u001b[39m)\n",
      "\u001b[0;31mAttributeError\u001b[0m: 'numpy.int64' object has no attribute 'split'"
     ]
    }
   ],
   "source": [
    "lst = filtered_b['TopConfigs'][878].split(';')"
   ]
  },
  {
   "cell_type": "code",
   "execution_count": 53,
   "metadata": {},
   "outputs": [
    {
     "data": {
      "text/plain": [
       "[0, 0, 0, 0, 0, 0, 0, 0, 0, 0]"
      ]
     },
     "execution_count": 53,
     "metadata": {},
     "output_type": "execute_result"
    }
   ],
   "source": [
    "zero = [0 for _ in range(10)]\n"
   ]
  },
  {
   "cell_type": "code",
   "execution_count": 10,
   "metadata": {},
   "outputs": [
    {
     "name": "stdout",
     "output_type": "stream",
     "text": [
      "1000\n",
      "1000\n",
      "1000\n",
      "1001\n",
      "1000\n",
      "1000\n",
      "1000\n",
      "1000\n"
     ]
    }
   ],
   "source": [
    "for i in range(8):\n",
    "    tmp = pd.read_csv(f\"pred_rank_{i}.csv\")\n",
    "    print(len(tmp))\n",
    "    result = \";\".join(map(str, tmp['0']))\n",
    "    # print(len(b['TopConfigs'][878+i]))\n",
    "    b['TopConfigs'][878+i] = result"
   ]
  },
  {
   "cell_type": "code",
   "execution_count": 60,
   "metadata": {},
   "outputs": [],
   "source": [
    "for row in range(len(b)):\n",
    "    config = b['TopConfigs'][row].split(\";\")\n",
    "    length = len(config)\n",
    "    new_val = [-1 for _ in range(length)]\n",
    "    result = \";\".join(map(str, new_val))\n",
    "    b['TopConfigs'][row] = result"
   ]
  },
  {
   "cell_type": "code",
   "execution_count": null,
   "metadata": {},
   "outputs": [],
   "source": []
  },
  {
   "cell_type": "code",
   "execution_count": 81,
   "metadata": {},
   "outputs": [],
   "source": [
    "b.to_csv('xla_random_0base_submission.csv', index = False)"
   ]
  },
  {
   "cell_type": "code",
   "execution_count": 82,
   "metadata": {},
   "outputs": [
    {
     "data": {
      "text/html": [
       "<div>\n",
       "<style scoped>\n",
       "    .dataframe tbody tr th:only-of-type {\n",
       "        vertical-align: middle;\n",
       "    }\n",
       "\n",
       "    .dataframe tbody tr th {\n",
       "        vertical-align: top;\n",
       "    }\n",
       "\n",
       "    .dataframe thead th {\n",
       "        text-align: right;\n",
       "    }\n",
       "</style>\n",
       "<table border=\"1\" class=\"dataframe\">\n",
       "  <thead>\n",
       "    <tr style=\"text-align: right;\">\n",
       "      <th></th>\n",
       "      <th>ID</th>\n",
       "      <th>TopConfigs</th>\n",
       "    </tr>\n",
       "  </thead>\n",
       "  <tbody>\n",
       "    <tr>\n",
       "      <th>0</th>\n",
       "      <td>tile:xla:0023795810403f8b0b244d88c901322f</td>\n",
       "      <td>2624;5263;464;1511;1638;1850;2367;2494;2536;2878</td>\n",
       "    </tr>\n",
       "    <tr>\n",
       "      <th>1</th>\n",
       "      <td>tile:xla:005c91ca7a50fffc663678fd44316f04</td>\n",
       "      <td>529;355;213;206;289;627;310;76;631;79</td>\n",
       "    </tr>\n",
       "    <tr>\n",
       "      <th>2</th>\n",
       "      <td>tile:xla:0070642211d5a98a16b94f4d7df229fe</td>\n",
       "      <td>26;805;637;650;577;189;763;813;989;144</td>\n",
       "    </tr>\n",
       "    <tr>\n",
       "      <th>3</th>\n",
       "      <td>tile:xla:008191e0c67a6e7a62cde1a3e1d66795</td>\n",
       "      <td>1148;817;610;1093;701;115;176;195;221;292</td>\n",
       "    </tr>\n",
       "    <tr>\n",
       "      <th>4</th>\n",
       "      <td>tile:xla:008730b43f100be7c2800d7cb89578a4</td>\n",
       "      <td>1053;316;736;702;281;593;390;300;987;997</td>\n",
       "    </tr>\n",
       "    <tr>\n",
       "      <th>...</th>\n",
       "      <td>...</td>\n",
       "      <td>...</td>\n",
       "    </tr>\n",
       "    <tr>\n",
       "      <th>889</th>\n",
       "      <td>layout:xla:default:937ee0eb0d5d6151b7b8252933b...</td>\n",
       "      <td>533;964;91;706;254;759;868;453;240;896;308;234...</td>\n",
       "    </tr>\n",
       "    <tr>\n",
       "      <th>890</th>\n",
       "      <td>layout:xla:default:cd708819d3f5103afd6460b15e7...</td>\n",
       "      <td>153;941;499;775;910;679;963;480;336;333;540;90...</td>\n",
       "    </tr>\n",
       "    <tr>\n",
       "      <th>891</th>\n",
       "      <td>layout:xla:default:db59a991b7c607634f13570d52c...</td>\n",
       "      <td>109;450;607;503;421;204;654;983;498;55;195;548...</td>\n",
       "    </tr>\n",
       "    <tr>\n",
       "      <th>892</th>\n",
       "      <td>layout:xla:default:e8a3a1401b5e79f66d7037e424f...</td>\n",
       "      <td>339;552;910;259;957;650;353;59;468;530;261;668...</td>\n",
       "    </tr>\n",
       "    <tr>\n",
       "      <th>893</th>\n",
       "      <td>layout:xla:default:fbaa8bb6a1aed9988281085c910...</td>\n",
       "      <td>460;39;141;991;296;995;42;611;774;373;92;803;6...</td>\n",
       "    </tr>\n",
       "  </tbody>\n",
       "</table>\n",
       "<p>894 rows × 2 columns</p>\n",
       "</div>"
      ],
      "text/plain": [
       "                                                    ID  \\\n",
       "0            tile:xla:0023795810403f8b0b244d88c901322f   \n",
       "1            tile:xla:005c91ca7a50fffc663678fd44316f04   \n",
       "2            tile:xla:0070642211d5a98a16b94f4d7df229fe   \n",
       "3            tile:xla:008191e0c67a6e7a62cde1a3e1d66795   \n",
       "4            tile:xla:008730b43f100be7c2800d7cb89578a4   \n",
       "..                                                 ...   \n",
       "889  layout:xla:default:937ee0eb0d5d6151b7b8252933b...   \n",
       "890  layout:xla:default:cd708819d3f5103afd6460b15e7...   \n",
       "891  layout:xla:default:db59a991b7c607634f13570d52c...   \n",
       "892  layout:xla:default:e8a3a1401b5e79f66d7037e424f...   \n",
       "893  layout:xla:default:fbaa8bb6a1aed9988281085c910...   \n",
       "\n",
       "                                            TopConfigs  \n",
       "0     2624;5263;464;1511;1638;1850;2367;2494;2536;2878  \n",
       "1                529;355;213;206;289;627;310;76;631;79  \n",
       "2               26;805;637;650;577;189;763;813;989;144  \n",
       "3            1148;817;610;1093;701;115;176;195;221;292  \n",
       "4             1053;316;736;702;281;593;390;300;987;997  \n",
       "..                                                 ...  \n",
       "889  533;964;91;706;254;759;868;453;240;896;308;234...  \n",
       "890  153;941;499;775;910;679;963;480;336;333;540;90...  \n",
       "891  109;450;607;503;421;204;654;983;498;55;195;548...  \n",
       "892  339;552;910;259;957;650;353;59;468;530;261;668...  \n",
       "893  460;39;141;991;296;995;42;611;774;373;92;803;6...  \n",
       "\n",
       "[894 rows x 2 columns]"
      ]
     },
     "execution_count": 82,
     "metadata": {},
     "output_type": "execute_result"
    }
   ],
   "source": [
    "b"
   ]
  },
  {
   "cell_type": "code",
   "execution_count": null,
   "metadata": {},
   "outputs": [],
   "source": []
  }
 ],
 "metadata": {
  "kernelspec": {
   "display_name": "gst5",
   "language": "python",
   "name": "python3"
  },
  "language_info": {
   "codemirror_mode": {
    "name": "ipython",
    "version": 3
   },
   "file_extension": ".py",
   "mimetype": "text/x-python",
   "name": "python",
   "nbconvert_exporter": "python",
   "pygments_lexer": "ipython3",
   "version": "3.9.18"
  }
 },
 "nbformat": 4,
 "nbformat_minor": 2
}
